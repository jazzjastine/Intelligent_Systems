{
 "cells": [
  {
   "cell_type": "code",
   "execution_count": null,
   "id": "cfd75073",
   "metadata": {},
   "outputs": [],
   "source": [
    "%pip install spacy\n",
    "%pip install gensim"
   ]
  },
  {
   "cell_type": "code",
   "execution_count": 2,
   "id": "6b481af9-3e7a-4407-8bde-8d01b5d3b738",
   "metadata": {},
   "outputs": [
    {
     "name": "stdout",
     "output_type": "stream",
     "text": [
      "\u001b[38;5;2m✔ Download and installation successful\u001b[0m\n",
      "You can now load the package via spacy.load('en_core_web_sm')\n"
     ]
    }
   ],
   "source": [
    "# Import necessary libraries\n",
    "import spacy\n",
    "import gensim\n",
    "from gensim import corpora\n",
    "from pprint import pprint\n",
    "\n",
    "spacy.cli.download(\"en_core_web_sm\")\n",
    "nlp = spacy.load('en_core_web_sm')\n"
   ]
  },
  {
   "cell_type": "markdown",
   "id": "56591d37-365b-4b44-b0a2-f00900104823",
   "metadata": {},
   "source": [
    "# Documents"
   ]
  },
  {
   "cell_type": "code",
   "execution_count": 3,
   "id": "f72f3c3a-5ca9-4272-8d27-c5af9b0754c1",
   "metadata": {},
   "outputs": [],
   "source": [
    "documents = [\n",
    "    \"Artificial intelligence is reshaping industries through innovative automation.\",\n",
    "    \"Robotics and AI applications revolutionize manufacturing processes.\",\n",
    "    \"Ethical considerations in AI development are crucial for responsible innovation.\",\n",
    "    \"AI-driven advancements pose challenges in workforce adaptation and job displacement.\"\n",
    "]"
   ]
  },
  {
   "cell_type": "markdown",
   "id": "6b04ad12-95ea-4a0a-ac49-f4ee9fbaeee2",
   "metadata": {},
   "source": [
    "# Preprocess the documents"
   ]
  },
  {
   "cell_type": "code",
   "execution_count": 4,
   "id": "a97f87a2-a9f4-4557-aef6-c921bda4e2b6",
   "metadata": {},
   "outputs": [],
   "source": [
    "\n",
    "def preprocess(text):\n",
    "    # Tokenize and lemmatize using spaCy\n",
    "    doc = nlp(text)\n",
    "    tokens = [token.lemma_ for token in doc if not token.is_stop and token.is_alpha]\n",
    "    return tokens\n",
    "\n",
    "# Apply preprocessing to all documents\n",
    "processed_documents = [preprocess(doc) for doc in documents]\n",
    "\n",
    "# Create a dictionary and corpus for LDA\n",
    "dictionary = corpora.Dictionary(processed_documents)\n",
    "corpus = [dictionary.doc2bow(doc) for doc in processed_documents]\n",
    "\n",
    "# Build LDA model\n",
    "lda_model1 = gensim.models.LdaModel(corpus, num_topics=2, id2word=dictionary, passes=10)\n",
    "lda_model2 = gensim.models.LdaModel(corpus, num_topics=4, id2word=dictionary, passes=20)\n"
   ]
  },
  {
   "cell_type": "markdown",
   "id": "05542fa2-2765-4327-bb81-27e6b2d629ef",
   "metadata": {},
   "source": [
    "# Print topics and their keywords"
   ]
  },
  {
   "cell_type": "code",
   "execution_count": 5,
   "id": "1f567bec-dfdf-4dd8-80b3-169eb11aa978",
   "metadata": {},
   "outputs": [
    {
     "name": "stdout",
     "output_type": "stream",
     "text": [
      "[(0,\n",
      "  '0.078*\"AI\" + 0.047*\"process\" + 0.047*\"manufacturing\" + 0.047*\"responsible\" '\n",
      "  '+ 0.047*\"robotic\" + 0.047*\"crucial\" + 0.047*\"innovation\" + '\n",
      "  '0.047*\"development\" + 0.047*\"application\" + 0.047*\"consideration\"'),\n",
      " (1,\n",
      "  '0.069*\"AI\" + 0.068*\"job\" + 0.068*\"challenge\" + 0.068*\"displacement\" + '\n",
      "  '0.068*\"adaptation\" + 0.068*\"pose\" + 0.068*\"advancement\" + 0.068*\"drive\" + '\n",
      "  '0.068*\"workforce\" + 0.023*\"innovative\"')]\n"
     ]
    }
   ],
   "source": [
    "pprint(lda_model1.print_topics())"
   ]
  },
  {
   "cell_type": "code",
   "execution_count": 6,
   "id": "f7ab9b5b",
   "metadata": {},
   "outputs": [
    {
     "name": "stdout",
     "output_type": "stream",
     "text": [
      "[(0,\n",
      "  '0.081*\"job\" + 0.081*\"drive\" + 0.081*\"adaptation\" + 0.081*\"advancement\" + '\n",
      "  '0.081*\"displacement\" + 0.081*\"workforce\" + 0.081*\"pose\" + 0.081*\"challenge\" '\n",
      "  '+ 0.081*\"AI\" + 0.016*\"robotic\"'),\n",
      " (1,\n",
      "  '0.100*\"AI\" + 0.100*\"manufacturing\" + 0.100*\"application\" + 0.100*\"process\" '\n",
      "  '+ 0.100*\"revolutionize\" + 0.100*\"robotic\" + 0.020*\"challenge\" + '\n",
      "  '0.020*\"pose\" + 0.020*\"workforce\" + 0.020*\"displacement\"'),\n",
      " (2,\n",
      "  '0.100*\"reshape\" + 0.100*\"innovative\" + 0.100*\"artificial\" + '\n",
      "  '0.100*\"automation\" + 0.100*\"intelligence\" + 0.100*\"industry\" + 0.020*\"AI\" + '\n",
      "  '0.020*\"robotic\" + 0.020*\"revolutionize\" + 0.020*\"process\"'),\n",
      " (3,\n",
      "  '0.093*\"AI\" + 0.093*\"responsible\" + 0.093*\"consideration\" + '\n",
      "  '0.093*\"development\" + 0.093*\"innovation\" + 0.093*\"crucial\" + '\n",
      "  '0.093*\"ethical\" + 0.019*\"robotic\" + 0.019*\"revolutionize\" + '\n",
      "  '0.019*\"process\"')]\n"
     ]
    }
   ],
   "source": [
    "pprint(lda_model2.print_topics())"
   ]
  },
  {
   "cell_type": "markdown",
   "id": "000de19a-8dd4-40e5-966b-25442d67ce78",
   "metadata": {},
   "source": [
    "# Assign topics to documents"
   ]
  },
  {
   "cell_type": "code",
   "execution_count": 7,
   "id": "da343547-03b4-41b6-b1b6-1faba58a87a5",
   "metadata": {},
   "outputs": [
    {
     "name": "stdout",
     "output_type": "stream",
     "text": [
      "Document 1 - Topic: [(0, 0.92373675), (1, 0.076263264)]\n",
      "Document 2 - Topic: [(0, 0.9209897), (1, 0.0790103)]\n",
      "Document 3 - Topic: [(0, 0.9312502), (1, 0.06874975)]\n",
      "Document 4 - Topic: [(0, 0.053791914), (1, 0.94620806)]\n"
     ]
    }
   ],
   "source": [
    "# Assign topics to documents\n",
    "for i, doc in enumerate(processed_documents):\n",
    "    print(f\"Document {i+1} - Topic: {lda_model1.get_document_topics(corpus[i])}\")"
   ]
  },
  {
   "cell_type": "code",
   "execution_count": 8,
   "id": "efa2a900",
   "metadata": {},
   "outputs": [
    {
     "name": "stdout",
     "output_type": "stream",
     "text": [
      "Document 1 - Topic: [(0, 0.035746496), (1, 0.03575483), (2, 0.89274716), (3, 0.035751496)]\n",
      "Document 2 - Topic: [(0, 0.036042366), (1, 0.89210784), (2, 0.03575438), (3, 0.036095448)]\n",
      "Document 3 - Topic: [(0, 0.031518765), (1, 0.0315899), (2, 0.03128779), (3, 0.9056035)]\n",
      "Document 4 - Topic: [(0, 0.92448705), (1, 0.02524915), (2, 0.025034629), (3, 0.025229214)]\n"
     ]
    }
   ],
   "source": [
    "for i, doc in enumerate(processed_documents):\n",
    "    print(f\"Document {i+1} - Topic: {lda_model2.get_document_topics(corpus[i])}\")"
   ]
  }
 ],
 "metadata": {
  "kernelspec": {
   "display_name": "Python 3 (ipykernel)",
   "language": "python",
   "name": "python3"
  },
  "language_info": {
   "codemirror_mode": {
    "name": "ipython",
    "version": 3
   },
   "file_extension": ".py",
   "mimetype": "text/x-python",
   "name": "python",
   "nbconvert_exporter": "python",
   "pygments_lexer": "ipython3",
   "version": "3.11.4"
  }
 },
 "nbformat": 4,
 "nbformat_minor": 5
}
