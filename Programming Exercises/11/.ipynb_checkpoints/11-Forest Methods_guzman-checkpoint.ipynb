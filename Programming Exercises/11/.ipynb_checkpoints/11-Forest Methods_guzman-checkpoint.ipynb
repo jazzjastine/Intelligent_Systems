{
 "cells": [
  {
   "cell_type": "markdown",
   "id": "738eb923",
   "metadata": {
    "papermill": {
     "duration": 0.012365,
     "end_time": "2023-12-01T19:41:36.472074",
     "exception": false,
     "start_time": "2023-12-01T19:41:36.459709",
     "status": "completed"
    },
    "tags": []
   },
   "source": [
    "# Imports"
   ]
  },
  {
   "cell_type": "code",
   "execution_count": 1,
   "id": "526fc93c",
   "metadata": {
    "papermill": {
     "duration": 3.186123,
     "end_time": "2023-12-01T19:41:39.669875",
     "exception": false,
     "start_time": "2023-12-01T19:41:36.483752",
     "status": "completed"
    },
    "tags": []
   },
   "outputs": [],
   "source": [
    "import pandas as pd\n",
    "import numpy as np\n",
    "import pickle\n",
    "import seaborn as sns\n",
    "import matplotlib.pyplot as plt\n",
    "\n",
    "from sklearn.model_selection import train_test_split\n",
    "from sklearn.preprocessing import MinMaxScaler, StandardScaler\n",
    "from sklearn.linear_model import LogisticRegression\n",
    "from sklearn.metrics import confusion_matrix,accuracy_score,classification_report\n",
    "from sklearn.tree import DecisionTreeClassifier\n",
    "from sklearn.ensemble import RandomForestClassifier\n",
    "from sklearn.neighbors import KNeighborsClassifier\n",
    "\n",
    "import tensorflow as tf"
   ]
  },
  {
   "cell_type": "code",
   "execution_count": 2,
   "id": "a3172a1b",
   "metadata": {
    "papermill": {
     "duration": 0.045797,
     "end_time": "2023-12-01T19:41:39.727166",
     "exception": false,
     "start_time": "2023-12-01T19:41:39.681369",
     "status": "completed"
    },
    "tags": []
   },
   "outputs": [],
   "source": [
    "df = pd.read_csv(\"11-heart.csv\")"
   ]
  },
  {
   "cell_type": "markdown",
   "id": "d0726f7d",
   "metadata": {
    "papermill": {
     "duration": 0.017232,
     "end_time": "2023-12-01T19:41:45.148338",
     "exception": false,
     "start_time": "2023-12-01T19:41:45.131106",
     "status": "completed"
    },
    "tags": []
   },
   "source": [
    "# Splitting Data"
   ]
  },
  {
   "cell_type": "code",
   "execution_count": 3,
   "id": "d9e2a71b",
   "metadata": {
    "papermill": {
     "duration": 0.030207,
     "end_time": "2023-12-01T19:41:45.196158",
     "exception": false,
     "start_time": "2023-12-01T19:41:45.165951",
     "status": "completed"
    },
    "tags": []
   },
   "outputs": [],
   "source": [
    "X = df.drop('output',axis='columns')\n",
    "y= df['output']"
   ]
  },
  {
   "cell_type": "code",
   "execution_count": 4,
   "id": "6371e822",
   "metadata": {
    "papermill": {
     "duration": 0.030769,
     "end_time": "2023-12-01T19:41:45.244340",
     "exception": false,
     "start_time": "2023-12-01T19:41:45.213571",
     "status": "completed"
    },
    "tags": []
   },
   "outputs": [],
   "source": [
    "X_train,X_test,y_train,y_test = train_test_split(X,y,test_size=0.2,random_state=42)"
   ]
  },
  {
   "cell_type": "code",
   "execution_count": 5,
   "id": "b1f22a68",
   "metadata": {},
   "outputs": [],
   "source": [
    "# Normalization and Standardization\n",
    "\n",
    "scaler = MinMaxScaler()\n",
    "X_train_scaled = scaler.fit_transform(X_train)\n",
    "X_test_scaled = scaler.transform(X_test)\n",
    "\n",
    "scaler2 = StandardScaler()\n",
    "X_train_scaled2 = scaler2.fit_transform(X_train)\n",
    "X_test_scaled2 = scaler2.transform(X_test)"
   ]
  },
  {
   "cell_type": "markdown",
   "id": "42806a59",
   "metadata": {
    "papermill": {
     "duration": 0.08065,
     "end_time": "2023-12-01T19:41:45.342255",
     "exception": false,
     "start_time": "2023-12-01T19:41:45.261605",
     "status": "completed"
    },
    "tags": []
   },
   "source": [
    "**Decision Tree Classifier**"
   ]
  },
  {
   "cell_type": "code",
   "execution_count": 6,
   "id": "2db63c6c",
   "metadata": {
    "papermill": {
     "duration": 0.038036,
     "end_time": "2023-12-01T19:41:45.397712",
     "exception": false,
     "start_time": "2023-12-01T19:41:45.359676",
     "status": "completed"
    },
    "tags": []
   },
   "outputs": [
    {
     "name": "stdout",
     "output_type": "stream",
     "text": [
      "With normalization:\n",
      "Decision Tree Train Accuracy =  100.0 %\n",
      "Decision tree Test Accuracy =  81.97 %\n",
      "\n",
      "              precision    recall  f1-score   support\n",
      "\n",
      "           0     0.7500    0.9310    0.8308        29\n",
      "           1     0.9200    0.7188    0.8070        32\n",
      "\n",
      "    accuracy                         0.8197        61\n",
      "   macro avg     0.8350    0.8249    0.8189        61\n",
      "weighted avg     0.8392    0.8197    0.8183        61\n",
      "\n"
     ]
    }
   ],
   "source": [
    "DT = DecisionTreeClassifier()\n",
    "DT.fit(X_train_scaled,y_train)\n",
    "\n",
    "y_prediction = DT.predict(X_test_scaled)\n",
    "tree_train_acc = round(accuracy_score(y_train,DT.predict(X_train_scaled))*100,2)\n",
    "tree_test_acc = round(accuracy_score(y_test,y_prediction)*100,2)\n",
    "\n",
    "print(\"With normalization:\")\n",
    "print('Decision Tree Train Accuracy = ' , tree_train_acc,'%')\n",
    "print('Decision tree Test Accuracy = ' , tree_test_acc,'%')\n",
    "print()\n",
    "print(classification_report(y_test,DT.predict(X_test_scaled), digits= 4))"
   ]
  },
  {
   "cell_type": "code",
   "execution_count": 7,
   "id": "f6046740",
   "metadata": {
    "papermill": {
     "duration": 0.038565,
     "end_time": "2023-12-01T19:41:45.454394",
     "exception": false,
     "start_time": "2023-12-01T19:41:45.415829",
     "status": "completed"
    },
    "tags": []
   },
   "outputs": [
    {
     "name": "stdout",
     "output_type": "stream",
     "text": [
      "With standardization:\n",
      "Decision Tree Train Accuracy =  100.0 %\n",
      "Decision tree Test Accuracy =  80.33 %\n",
      "\n",
      "              precision    recall  f1-score   support\n",
      "\n",
      "           0     0.7576    0.8621    0.8065        29\n",
      "           1     0.8571    0.7500    0.8000        32\n",
      "\n",
      "    accuracy                         0.8033        61\n",
      "   macro avg     0.8074    0.8060    0.8032        61\n",
      "weighted avg     0.8098    0.8033    0.8031        61\n",
      "\n"
     ]
    }
   ],
   "source": [
    "DT2 = DecisionTreeClassifier()\n",
    "DT2.fit(X_train_scaled2,y_train)\n",
    "\n",
    "y_prediction2 = DT2.predict(X_test_scaled2)\n",
    "tree_train_acc2 = round(accuracy_score(y_train,DT2.predict(X_train_scaled2))*100,2)\n",
    "tree_test_acc2 = round(accuracy_score(y_test,y_prediction2)*100,2)\n",
    "\n",
    "print(\"With standardization:\")\n",
    "print('Decision Tree Train Accuracy = ' , tree_train_acc2,'%')\n",
    "print('Decision tree Test Accuracy = ' , tree_test_acc2,'%')\n",
    "print()\n",
    "print(classification_report(y_test,DT2.predict(X_test_scaled2), digits= 4))"
   ]
  },
  {
   "cell_type": "markdown",
   "id": "511c181b",
   "metadata": {},
   "source": [
    "**K-Nearest Neighbors Classifier**"
   ]
  },
  {
   "cell_type": "code",
   "execution_count": 8,
   "id": "433b7441",
   "metadata": {},
   "outputs": [
    {
     "name": "stdout",
     "output_type": "stream",
     "text": [
      "With normalization:\n",
      "KNN Train Accuracy =  84.71 %\n",
      "KNN Test Accuracy =  83.61 %\n",
      "\n",
      "              precision    recall  f1-score   support\n",
      "\n",
      "           0     0.8065    0.8621    0.8333        29\n",
      "           1     0.8667    0.8125    0.8387        32\n",
      "\n",
      "    accuracy                         0.8361        61\n",
      "   macro avg     0.8366    0.8373    0.8360        61\n",
      "weighted avg     0.8380    0.8361    0.8362        61\n",
      "\n"
     ]
    }
   ],
   "source": [
    "KNN = KNeighborsClassifier()\n",
    "KNN.fit(X_train_scaled,y_train)\n",
    "\n",
    "y_prediction = KNN.predict(X_test_scaled)\n",
    "tree_train_acc = round(accuracy_score(y_train,KNN.predict(X_train_scaled))*100,2)\n",
    "tree_test_acc = round(accuracy_score(y_test,y_prediction)*100,2)\n",
    "\n",
    "print(\"With normalization:\")\n",
    "print('KNN Train Accuracy = ' , tree_train_acc,'%')\n",
    "print('KNN Test Accuracy = ' , tree_test_acc,'%')\n",
    "print()\n",
    "print(classification_report(y_test,KNN.predict(X_test_scaled), digits= 4))\n"
   ]
  },
  {
   "cell_type": "code",
   "execution_count": 9,
   "id": "32a1e44a",
   "metadata": {},
   "outputs": [
    {
     "name": "stdout",
     "output_type": "stream",
     "text": [
      "With standardization:\n",
      "KNN Train Accuracy =  85.54 %\n",
      "KNN Test Accuracy =  90.16 %\n",
      "\n",
      "              precision    recall  f1-score   support\n",
      "\n",
      "           0     0.8710    0.9310    0.9000        29\n",
      "           1     0.9333    0.8750    0.9032        32\n",
      "\n",
      "    accuracy                         0.9016        61\n",
      "   macro avg     0.9022    0.9030    0.9016        61\n",
      "weighted avg     0.9037    0.9016    0.9017        61\n",
      "\n"
     ]
    }
   ],
   "source": [
    "KNN2 = KNeighborsClassifier()\n",
    "KNN2.fit(X_train_scaled2,y_train)\n",
    "\n",
    "y_prediction2 = KNN2.predict(X_test_scaled2)\n",
    "tree_train_acc2 = round(accuracy_score(y_train,KNN2.predict(X_train_scaled2))*100,2)\n",
    "tree_test_acc2 = round(accuracy_score(y_test,y_prediction2)*100,2)\n",
    "\n",
    "print(\"With standardization:\")\n",
    "print('KNN Train Accuracy = ' , tree_train_acc2,'%')\n",
    "print('KNN Test Accuracy = ' , tree_test_acc2,'%')\n",
    "print()\n",
    "print(classification_report(y_test,KNN2.predict(X_test_scaled2), digits= 4))"
   ]
  },
  {
   "cell_type": "markdown",
   "id": "9ed9f64d",
   "metadata": {
    "papermill": {
     "duration": 0.019377,
     "end_time": "2023-12-01T19:41:45.551878",
     "exception": false,
     "start_time": "2023-12-01T19:41:45.532501",
     "status": "completed"
    },
    "tags": []
   },
   "source": [
    "**Random Forest**"
   ]
  },
  {
   "cell_type": "code",
   "execution_count": 10,
   "id": "d3675bb2",
   "metadata": {
    "papermill": {
     "duration": 0.273147,
     "end_time": "2023-12-01T19:41:45.842624",
     "exception": false,
     "start_time": "2023-12-01T19:41:45.569477",
     "status": "completed"
    },
    "tags": []
   },
   "outputs": [
    {
     "name": "stdout",
     "output_type": "stream",
     "text": [
      "With normalization:\n",
      "Random Forest Train Accuracy =  100.0 %\n",
      "Random Forest Test Accuracy =  86.89 %\n",
      "\n",
      "              precision    recall  f1-score   support\n",
      "\n",
      "           0     0.8889    0.8276    0.8571        29\n",
      "           1     0.8529    0.9062    0.8788        32\n",
      "\n",
      "    accuracy                         0.8689        61\n",
      "   macro avg     0.8709    0.8669    0.8680        61\n",
      "weighted avg     0.8700    0.8689    0.8685        61\n",
      "\n"
     ]
    }
   ],
   "source": [
    "RF = RandomForestClassifier()\n",
    "RF.fit(X_train_scaled,y_train)\n",
    "\n",
    "y_prediction = RF.predict(X_test_scaled)\n",
    "tree_train_acc = round(accuracy_score(y_train,RF.predict(X_train_scaled))*100,2)\n",
    "tree_test_acc = round(accuracy_score(y_test,y_prediction)*100,2)\n",
    "\n",
    "print(\"With normalization:\")\n",
    "print('Random Forest Train Accuracy = ' , tree_train_acc,'%')\n",
    "print('Random Forest Test Accuracy = ' , tree_test_acc,'%')\n",
    "print()\n",
    "print(classification_report(y_test,RF.predict(X_test_scaled), digits= 4))"
   ]
  },
  {
   "cell_type": "code",
   "execution_count": 11,
   "id": "d380b032",
   "metadata": {
    "papermill": {
     "duration": 0.058544,
     "end_time": "2023-12-01T19:41:45.919016",
     "exception": false,
     "start_time": "2023-12-01T19:41:45.860472",
     "status": "completed"
    },
    "tags": []
   },
   "outputs": [
    {
     "name": "stdout",
     "output_type": "stream",
     "text": [
      "With standardization:\n",
      "Random Forest Train Accuracy =  100.0 %\n",
      "Random Forest Test Accuracy =  81.97 %\n",
      "\n",
      "              precision    recall  f1-score   support\n",
      "\n",
      "           0     0.8000    0.8276    0.8136        29\n",
      "           1     0.8387    0.8125    0.8254        32\n",
      "\n",
      "    accuracy                         0.8197        61\n",
      "   macro avg     0.8194    0.8200    0.8195        61\n",
      "weighted avg     0.8203    0.8197    0.8198        61\n",
      "\n"
     ]
    }
   ],
   "source": [
    "RF2 = RandomForestClassifier()\n",
    "RF2.fit(X_train_scaled2,y_train)\n",
    "\n",
    "y_prediction2 = RF2.predict(X_test_scaled2)\n",
    "tree_train_acc2 = round(accuracy_score(y_train,RF2.predict(X_train_scaled2))*100,2)\n",
    "tree_test_acc2 = round(accuracy_score(y_test,y_prediction2)*100,2)\n",
    "\n",
    "print(\"With standardization:\")\n",
    "print('Random Forest Train Accuracy = ' , tree_train_acc2,'%')\n",
    "print('Random Forest Test Accuracy = ' , tree_test_acc2,'%')\n",
    "print()\n",
    "print(classification_report(y_test,RF2.predict(X_test_scaled2), digits= 4))"
   ]
  },
  {
   "cell_type": "markdown",
   "id": "241ae0d1",
   "metadata": {
    "papermill": {
     "duration": 0.017956,
     "end_time": "2023-12-01T19:41:46.025688",
     "exception": false,
     "start_time": "2023-12-01T19:41:46.007732",
     "status": "completed"
    },
    "tags": []
   },
   "source": [
    "**Logistic Regression**"
   ]
  },
  {
   "cell_type": "code",
   "execution_count": 12,
   "id": "edc42c54",
   "metadata": {
    "papermill": {
     "duration": 0.063125,
     "end_time": "2023-12-01T19:41:46.107618",
     "exception": false,
     "start_time": "2023-12-01T19:41:46.044493",
     "status": "completed"
    },
    "tags": []
   },
   "outputs": [
    {
     "name": "stdout",
     "output_type": "stream",
     "text": [
      "With normalization:\n",
      "Logistic Regression Train Accuracy =  84.71 %\n",
      "Logistic Regression Test Accuracy =  85.25 %\n",
      "\n",
      "              precision    recall  f1-score   support\n",
      "\n",
      "           0     0.8333    0.8621    0.8475        29\n",
      "           1     0.8710    0.8438    0.8571        32\n",
      "\n",
      "    accuracy                         0.8525        61\n",
      "   macro avg     0.8522    0.8529    0.8523        61\n",
      "weighted avg     0.8531    0.8525    0.8525        61\n",
      "\n"
     ]
    }
   ],
   "source": [
    "LR = LogisticRegression()\n",
    "LR.fit(X_train_scaled,y_train)\n",
    "\n",
    "y_prediction = LR.predict(X_test_scaled)\n",
    "tree_train_acc = round(accuracy_score(y_train,LR.predict(X_train_scaled))*100,2)\n",
    "tree_test_acc = round(accuracy_score(y_test,y_prediction)*100,2)\n",
    "\n",
    "print(\"With normalization:\")\n",
    "print('Logistic Regression Train Accuracy = ' , tree_train_acc,'%')\n",
    "print('Logistic Regression Test Accuracy = ' , tree_test_acc,'%')\n",
    "print()\n",
    "print(classification_report(y_test,LR.predict(X_test_scaled), digits= 4))"
   ]
  },
  {
   "cell_type": "code",
   "execution_count": 13,
   "id": "379df9af",
   "metadata": {
    "papermill": {
     "duration": 0.039321,
     "end_time": "2023-12-01T19:41:46.165244",
     "exception": false,
     "start_time": "2023-12-01T19:41:46.125923",
     "status": "completed"
    },
    "tags": []
   },
   "outputs": [
    {
     "name": "stdout",
     "output_type": "stream",
     "text": [
      "With standardization:\n",
      "Logistic Regression Train Accuracy =  86.36 %\n",
      "Logistic Regression Test Accuracy =  85.25 %\n",
      "\n",
      "              precision    recall  f1-score   support\n",
      "\n",
      "           0     0.8333    0.8621    0.8475        29\n",
      "           1     0.8710    0.8438    0.8571        32\n",
      "\n",
      "    accuracy                         0.8525        61\n",
      "   macro avg     0.8522    0.8529    0.8523        61\n",
      "weighted avg     0.8531    0.8525    0.8525        61\n",
      "\n"
     ]
    }
   ],
   "source": [
    "LR2 = LogisticRegression()\n",
    "LR2.fit(X_train_scaled2,y_train)\n",
    "\n",
    "y_prediction2 = LR2.predict(X_test_scaled2)\n",
    "tree_train_acc2 = round(accuracy_score(y_train,LR2.predict(X_train_scaled2))*100,2)\n",
    "tree_test_acc2 = round(accuracy_score(y_test,y_prediction2)*100,2)\n",
    "\n",
    "print(\"With standardization:\")\n",
    "print('Logistic Regression Train Accuracy = ' , tree_train_acc2,'%')\n",
    "print('Logistic Regression Test Accuracy = ' , tree_test_acc2,'%')\n",
    "print()\n",
    "print(classification_report(y_test,LR2.predict(X_test_scaled2), digits= 4))"
   ]
  },
  {
   "cell_type": "markdown",
   "id": "a45c8fbc",
   "metadata": {},
   "source": [
    "**Neural Network**"
   ]
  },
  {
   "cell_type": "code",
   "execution_count": 14,
   "id": "449e36cd",
   "metadata": {},
   "outputs": [
    {
     "name": "stdout",
     "output_type": "stream",
     "text": [
      "Epoch 1/32\n",
      "16/16 [==============================] - 1s 1ms/step - loss: 0.6933 - accuracy: 0.5248\n",
      "Epoch 2/32\n",
      "16/16 [==============================] - 0s 970us/step - loss: 0.6923 - accuracy: 0.5620\n",
      "Epoch 3/32\n",
      "16/16 [==============================] - 0s 1ms/step - loss: 0.6919 - accuracy: 0.5579\n",
      "Epoch 4/32\n",
      "16/16 [==============================] - 0s 970us/step - loss: 0.6916 - accuracy: 0.5537\n",
      "Epoch 5/32\n",
      "16/16 [==============================] - 0s 970us/step - loss: 0.6908 - accuracy: 0.5661\n",
      "Epoch 6/32\n",
      "16/16 [==============================] - 0s 1ms/step - loss: 0.6898 - accuracy: 0.5785\n",
      "Epoch 7/32\n",
      "16/16 [==============================] - 0s 1ms/step - loss: 0.6875 - accuracy: 0.6033\n",
      "Epoch 8/32\n",
      "16/16 [==============================] - 0s 1ms/step - loss: 0.6831 - accuracy: 0.6405\n",
      "Epoch 9/32\n",
      "16/16 [==============================] - 0s 1ms/step - loss: 0.6750 - accuracy: 0.6653\n",
      "Epoch 10/32\n",
      "16/16 [==============================] - 0s 1ms/step - loss: 0.6653 - accuracy: 0.6736\n",
      "Epoch 11/32\n",
      "16/16 [==============================] - 0s 970us/step - loss: 0.6539 - accuracy: 0.7066\n",
      "Epoch 12/32\n",
      "16/16 [==============================] - 0s 970us/step - loss: 0.6457 - accuracy: 0.7107\n",
      "Epoch 13/32\n",
      "16/16 [==============================] - 0s 1ms/step - loss: 0.6374 - accuracy: 0.7190\n",
      "Epoch 14/32\n",
      "16/16 [==============================] - 0s 1ms/step - loss: 0.6290 - accuracy: 0.7479\n",
      "Epoch 15/32\n",
      "16/16 [==============================] - 0s 970us/step - loss: 0.6241 - accuracy: 0.7355\n",
      "Epoch 16/32\n",
      "16/16 [==============================] - 0s 1ms/step - loss: 0.6145 - accuracy: 0.7521\n",
      "Epoch 17/32\n",
      "16/16 [==============================] - 0s 1ms/step - loss: 0.6092 - accuracy: 0.7686\n",
      "Epoch 18/32\n",
      "16/16 [==============================] - 0s 936us/step - loss: 0.6001 - accuracy: 0.7810\n",
      "Epoch 19/32\n",
      "16/16 [==============================] - 0s 967us/step - loss: 0.5917 - accuracy: 0.7893\n",
      "Epoch 20/32\n",
      "16/16 [==============================] - 0s 1ms/step - loss: 0.5844 - accuracy: 0.7851\n",
      "Epoch 21/32\n",
      "16/16 [==============================] - 0s 970us/step - loss: 0.5758 - accuracy: 0.8017\n",
      "Epoch 22/32\n",
      "16/16 [==============================] - 0s 970us/step - loss: 0.5685 - accuracy: 0.8223\n",
      "Epoch 23/32\n",
      "16/16 [==============================] - 0s 1ms/step - loss: 0.5631 - accuracy: 0.8140\n",
      "Epoch 24/32\n",
      "16/16 [==============================] - 0s 1ms/step - loss: 0.5569 - accuracy: 0.8058\n",
      "Epoch 25/32\n",
      "16/16 [==============================] - 0s 1ms/step - loss: 0.5507 - accuracy: 0.8017\n",
      "Epoch 26/32\n",
      "16/16 [==============================] - 0s 1ms/step - loss: 0.5448 - accuracy: 0.8140\n",
      "Epoch 27/32\n",
      "16/16 [==============================] - 0s 1ms/step - loss: 0.5400 - accuracy: 0.8099\n",
      "Epoch 28/32\n",
      "16/16 [==============================] - 0s 970us/step - loss: 0.5349 - accuracy: 0.8223\n",
      "Epoch 29/32\n",
      "16/16 [==============================] - 0s 971us/step - loss: 0.5304 - accuracy: 0.8140\n",
      "Epoch 30/32\n",
      "16/16 [==============================] - 0s 1ms/step - loss: 0.5259 - accuracy: 0.8182\n",
      "Epoch 31/32\n",
      "16/16 [==============================] - 0s 970us/step - loss: 0.5216 - accuracy: 0.8182\n",
      "Epoch 32/32\n",
      "16/16 [==============================] - 0s 1ms/step - loss: 0.5177 - accuracy: 0.8182\n"
     ]
    },
    {
     "data": {
      "text/plain": [
       "<keras.src.callbacks.History at 0x25278739450>"
      ]
     },
     "execution_count": 14,
     "metadata": {},
     "output_type": "execute_result"
    }
   ],
   "source": [
    "ann = tf.keras.models.Sequential([\n",
    "    tf.keras.layers.Dense(units=8, activation='relu'),   # Input layer\n",
    "    tf.keras.layers.Dense(units=3, activation='relu'),   # Hidden layer\n",
    "    tf.keras.layers.Dense(units=3, activation='relu'),   # Hidden layer\n",
    "    tf.keras.layers.Dense(units=1, activation='sigmoid') # Output layer\n",
    "])\n",
    "ann.compile(optimizer = 'adam', loss = 'binary_crossentropy', metrics = ['accuracy'])\n",
    "ann.fit(X_train_scaled, y_train, batch_size = 16, epochs = 32)"
   ]
  },
  {
   "cell_type": "code",
   "execution_count": 15,
   "id": "ee8a132b",
   "metadata": {},
   "outputs": [
    {
     "name": "stdout",
     "output_type": "stream",
     "text": [
      "2/2 [==============================] - 0s 2ms/step\n",
      "With normalization:\n",
      "Neural Network Test Accuracy =  83.61 %\n",
      "\n",
      "Confusion matrix:\n",
      "[[27  2]\n",
      " [ 8 24]]\n",
      "              precision    recall  f1-score   support\n",
      "\n",
      "           0     0.7714    0.9310    0.8438        29\n",
      "           1     0.9231    0.7500    0.8276        32\n",
      "\n",
      "    accuracy                         0.8361        61\n",
      "   macro avg     0.8473    0.8405    0.8357        61\n",
      "weighted avg     0.8510    0.8361    0.8353        61\n",
      "\n"
     ]
    }
   ],
   "source": [
    "y_pre = ann.predict(X_test_scaled)\n",
    "y_pred = (y_pre > 0.5)\n",
    "cm = confusion_matrix(y_test, y_pred)\n",
    "\n",
    "acc = round(accuracy_score(y_test,y_pred)*100,2)\n",
    "print('With normalization:')\n",
    "print('Neural Network Test Accuracy = ' , acc,'%')\n",
    "print()\n",
    "print('Confusion matrix:')\n",
    "print(cm)\n",
    "print(classification_report(y_test, y_pred, digits= 4))"
   ]
  },
  {
   "cell_type": "code",
   "execution_count": 18,
   "id": "baab9af4",
   "metadata": {},
   "outputs": [
    {
     "name": "stdout",
     "output_type": "stream",
     "text": [
      "Epoch 1/48\n",
      "16/16 [==============================] - 1s 3ms/step - loss: 0.6885 - accuracy: 0.5372\n",
      "Epoch 2/48\n",
      "16/16 [==============================] - 0s 5ms/step - loss: 0.6816 - accuracy: 0.6157\n",
      "Epoch 3/48\n",
      "16/16 [==============================] - 0s 2ms/step - loss: 0.6750 - accuracy: 0.6405\n",
      "Epoch 4/48\n",
      "16/16 [==============================] - 0s 4ms/step - loss: 0.6676 - accuracy: 0.6860\n",
      "Epoch 5/48\n",
      "16/16 [==============================] - 0s 2ms/step - loss: 0.6590 - accuracy: 0.7066\n",
      "Epoch 6/48\n",
      "16/16 [==============================] - 0s 3ms/step - loss: 0.6489 - accuracy: 0.7314\n",
      "Epoch 7/48\n",
      "16/16 [==============================] - 0s 3ms/step - loss: 0.6371 - accuracy: 0.7479\n",
      "Epoch 8/48\n",
      "16/16 [==============================] - 0s 3ms/step - loss: 0.6242 - accuracy: 0.7562\n",
      "Epoch 9/48\n",
      "16/16 [==============================] - 0s 3ms/step - loss: 0.6110 - accuracy: 0.7727\n",
      "Epoch 10/48\n",
      "16/16 [==============================] - 0s 4ms/step - loss: 0.5988 - accuracy: 0.7810\n",
      "Epoch 11/48\n",
      "16/16 [==============================] - 0s 3ms/step - loss: 0.5850 - accuracy: 0.7975\n",
      "Epoch 12/48\n",
      "16/16 [==============================] - 0s 4ms/step - loss: 0.5709 - accuracy: 0.7975\n",
      "Epoch 13/48\n",
      "16/16 [==============================] - 0s 3ms/step - loss: 0.5565 - accuracy: 0.8058\n",
      "Epoch 14/48\n",
      "16/16 [==============================] - 0s 3ms/step - loss: 0.5425 - accuracy: 0.8140\n",
      "Epoch 15/48\n",
      "16/16 [==============================] - 0s 5ms/step - loss: 0.5299 - accuracy: 0.8264\n",
      "Epoch 16/48\n",
      "16/16 [==============================] - 0s 4ms/step - loss: 0.5172 - accuracy: 0.8264\n",
      "Epoch 17/48\n",
      "16/16 [==============================] - 0s 4ms/step - loss: 0.5050 - accuracy: 0.8264\n",
      "Epoch 18/48\n",
      "16/16 [==============================] - 0s 2ms/step - loss: 0.4931 - accuracy: 0.8264\n",
      "Epoch 19/48\n",
      "16/16 [==============================] - 0s 3ms/step - loss: 0.4820 - accuracy: 0.8306\n",
      "Epoch 20/48\n",
      "16/16 [==============================] - 0s 2ms/step - loss: 0.4731 - accuracy: 0.8306\n",
      "Epoch 21/48\n",
      "16/16 [==============================] - 0s 3ms/step - loss: 0.4648 - accuracy: 0.8347\n",
      "Epoch 22/48\n",
      "16/16 [==============================] - 0s 3ms/step - loss: 0.4561 - accuracy: 0.8430\n",
      "Epoch 23/48\n",
      "16/16 [==============================] - 0s 3ms/step - loss: 0.4476 - accuracy: 0.8430\n",
      "Epoch 24/48\n",
      "16/16 [==============================] - 0s 3ms/step - loss: 0.4404 - accuracy: 0.8430\n",
      "Epoch 25/48\n",
      "16/16 [==============================] - 0s 3ms/step - loss: 0.4325 - accuracy: 0.8554\n",
      "Epoch 26/48\n",
      "16/16 [==============================] - 0s 4ms/step - loss: 0.4255 - accuracy: 0.8554\n",
      "Epoch 27/48\n",
      "16/16 [==============================] - 0s 4ms/step - loss: 0.4180 - accuracy: 0.8554\n",
      "Epoch 28/48\n",
      "16/16 [==============================] - 0s 3ms/step - loss: 0.4121 - accuracy: 0.8595\n",
      "Epoch 29/48\n",
      "16/16 [==============================] - 0s 3ms/step - loss: 0.4054 - accuracy: 0.8595\n",
      "Epoch 30/48\n",
      "16/16 [==============================] - 0s 1ms/step - loss: 0.3999 - accuracy: 0.8595\n",
      "Epoch 31/48\n",
      "16/16 [==============================] - 0s 2ms/step - loss: 0.3946 - accuracy: 0.8595\n",
      "Epoch 32/48\n",
      "16/16 [==============================] - 0s 3ms/step - loss: 0.3897 - accuracy: 0.8595\n",
      "Epoch 33/48\n",
      "16/16 [==============================] - 0s 3ms/step - loss: 0.3848 - accuracy: 0.8636\n",
      "Epoch 34/48\n",
      "16/16 [==============================] - 0s 3ms/step - loss: 0.3806 - accuracy: 0.8636\n",
      "Epoch 35/48\n",
      "16/16 [==============================] - 0s 3ms/step - loss: 0.3764 - accuracy: 0.8636\n",
      "Epoch 36/48\n",
      "16/16 [==============================] - 0s 3ms/step - loss: 0.3720 - accuracy: 0.8636\n",
      "Epoch 37/48\n",
      "16/16 [==============================] - 0s 3ms/step - loss: 0.3679 - accuracy: 0.8678\n",
      "Epoch 38/48\n",
      "16/16 [==============================] - 0s 3ms/step - loss: 0.3637 - accuracy: 0.8719\n",
      "Epoch 39/48\n",
      "16/16 [==============================] - 0s 2ms/step - loss: 0.3595 - accuracy: 0.8678\n",
      "Epoch 40/48\n",
      "16/16 [==============================] - 0s 2ms/step - loss: 0.3558 - accuracy: 0.8678\n",
      "Epoch 41/48\n",
      "16/16 [==============================] - 0s 3ms/step - loss: 0.3525 - accuracy: 0.8719\n",
      "Epoch 42/48\n",
      "16/16 [==============================] - 0s 2ms/step - loss: 0.3493 - accuracy: 0.8802\n",
      "Epoch 43/48\n",
      "16/16 [==============================] - 0s 2ms/step - loss: 0.3452 - accuracy: 0.8760\n",
      "Epoch 44/48\n",
      "16/16 [==============================] - 0s 3ms/step - loss: 0.3416 - accuracy: 0.8760\n",
      "Epoch 45/48\n",
      "16/16 [==============================] - 0s 3ms/step - loss: 0.3383 - accuracy: 0.8802\n",
      "Epoch 46/48\n",
      "16/16 [==============================] - 0s 4ms/step - loss: 0.3352 - accuracy: 0.8843\n",
      "Epoch 47/48\n",
      "16/16 [==============================] - 0s 3ms/step - loss: 0.3318 - accuracy: 0.8884\n",
      "Epoch 48/48\n",
      "16/16 [==============================] - 0s 3ms/step - loss: 0.3287 - accuracy: 0.8884\n"
     ]
    },
    {
     "data": {
      "text/plain": [
       "<keras.src.callbacks.History at 0x2527fe9ca50>"
      ]
     },
     "execution_count": 18,
     "metadata": {},
     "output_type": "execute_result"
    }
   ],
   "source": [
    "ann2 = tf.keras.models.Sequential([\n",
    "    tf.keras.layers.Dense(units=8, activation='relu'),   # Input layer\n",
    "    tf.keras.layers.Dense(units=3, activation='relu'),   # Hidden layer\n",
    "    tf.keras.layers.Dense(units=3, activation='relu'),   # Hidden layer\n",
    "    tf.keras.layers.Dense(units=1, activation='sigmoid') # Output layer\n",
    "])\n",
    "ann2.compile(optimizer = 'adam', loss = 'binary_crossentropy', metrics = ['accuracy'])\n",
    "ann2.fit(X_train_scaled2, y_train, batch_size = 16, epochs = 48)"
   ]
  },
  {
   "cell_type": "code",
   "execution_count": 19,
   "id": "e87e2477",
   "metadata": {
    "tags": []
   },
   "outputs": [
    {
     "name": "stdout",
     "output_type": "stream",
     "text": [
      "2/2 [==============================] - 0s 4ms/step\n",
      "With standardization:\n",
      "Neural Network Test Accuracy =  88.52 %\n",
      "\n",
      "Confusion matrix:\n",
      "[[26  3]\n",
      " [ 4 28]]\n",
      "              precision    recall  f1-score   support\n",
      "\n",
      "           0     0.8667    0.8966    0.8814        29\n",
      "           1     0.9032    0.8750    0.8889        32\n",
      "\n",
      "    accuracy                         0.8852        61\n",
      "   macro avg     0.8849    0.8858    0.8851        61\n",
      "weighted avg     0.8858    0.8852    0.8853        61\n",
      "\n"
     ]
    }
   ],
   "source": [
    "y_pre = ann2.predict(X_test_scaled2)\n",
    "y_pred = (y_pre > 0.5)\n",
    "cm = confusion_matrix(y_test, y_pred)\n",
    "\n",
    "acc2 = round(accuracy_score(y_test,y_pred)*100,2)\n",
    "print('With standardization:')\n",
    "print('Neural Network Test Accuracy = ' , acc2,'%')\n",
    "print()\n",
    "print('Confusion matrix:')\n",
    "print(cm)\n",
    "print(classification_report(y_test, y_pred, digits= 4))"
   ]
  },
  {
   "cell_type": "code",
   "execution_count": null,
   "id": "88a6f895-6d4f-4523-826f-bdff0b4f0361",
   "metadata": {},
   "outputs": [],
   "source": []
  }
 ],
 "metadata": {
  "kaggle": {
   "accelerator": "none",
   "dataSources": [
    {
     "datasetId": 1226038,
     "sourceId": 2047221,
     "sourceType": "datasetVersion"
    }
   ],
   "dockerImageVersionId": 30587,
   "isGpuEnabled": false,
   "isInternetEnabled": true,
   "language": "python",
   "sourceType": "notebook"
  },
  "kernelspec": {
   "display_name": "Python 3 (ipykernel)",
   "language": "python",
   "name": "python3"
  },
  "language_info": {
   "codemirror_mode": {
    "name": "ipython",
    "version": 3
   },
   "file_extension": ".py",
   "mimetype": "text/x-python",
   "name": "python",
   "nbconvert_exporter": "python",
   "pygments_lexer": "ipython3",
   "version": "3.11.4"
  },
  "papermill": {
   "default_parameters": {},
   "duration": 15.875372,
   "end_time": "2023-12-01T19:41:47.113724",
   "environment_variables": {},
   "exception": null,
   "input_path": "__notebook__.ipynb",
   "output_path": "__notebook__.ipynb",
   "parameters": {},
   "start_time": "2023-12-01T19:41:31.238352",
   "version": "2.4.0"
  }
 },
 "nbformat": 4,
 "nbformat_minor": 5
}
